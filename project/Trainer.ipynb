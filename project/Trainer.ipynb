{
 "cells": [
  {
   "cell_type": "code",
   "execution_count": 25,
   "id": "3320b4f5",
   "metadata": {},
   "outputs": [],
   "source": [
    "from statistics import mean\n",
    "import tqdm\n",
    "import torchmetrics\n",
    "import numpy as np\n",
    "import torch\n",
    "metric = torchmetrics.Accuracy()\n",
    "metric2 = torchmetrics.F1Score()\n",
    "def training(model,loss_function,optimizer,train_loader,val_loader,NUMBER_OF_EPOCHS = 50):\n",
    "    train_loss_list = []\n",
    "    val_loss_list = []\n",
    "    for epoch in range(NUMBER_OF_EPOCHS):\n",
    "        # training\n",
    "        epoch_loss = 0\n",
    "        correct = 0\n",
    "        acc_list = []\n",
    "        epoch_all = 0\n",
    "        model.train()\n",
    "        with tqdm.tqdm(enumerate(train_loader), total=len(train_loader)) as pbar:\n",
    "            for i, (x1,x2, y) in pbar:\n",
    "                optimizer.zero_grad()\n",
    "                outputs = model(x1,x2)\n",
    "                loss = loss_function (outputs , y)\n",
    "                loss.backward()\n",
    "                optimizer.step()\n",
    "                epoch_loss += outputs.shape[0] * loss.item()\n",
    "                epoch_all += y.size(0)\n",
    "                predicted = torch.round(outputs)\n",
    "                correct += (predicted == y).sum().item()\n",
    "                pbar.set_description(f'epoch {epoch } - train Loss: {epoch_loss / (i + 1):.3e} - train Acc: {correct * 100. / epoch_all:.2f}%')\n",
    "        train_loss_list.append(epoch_loss)\n",
    "        model.eval() \n",
    "        epoch_loss = 0\n",
    "        with torch.no_grad():\n",
    "            main = []\n",
    "            pre = []\n",
    "            epoch_loss = 0\n",
    "            epoch_all = 0\n",
    "            correct = 0\n",
    "            corr = 0\n",
    "            tot = 0\n",
    "            with tqdm.tqdm(enumerate(val_loader), total=len(val_loader)) as pbar:\n",
    "                for i, (x1,x2, y) in pbar:\n",
    "                    out = model(x1,x2)\n",
    "                    los = loss_function (out , y).item()\n",
    "                    epoch_loss += outputs.shape[0] * loss.item()\n",
    "                    predicts = torch.round(out)\n",
    "                    epoch_all+=y.size(0)\n",
    "                    tot += y.size(0)\n",
    "                    correct += (predicts == y).sum().item()\n",
    "                    pbar.set_description(f'epoch {epoch } - val Loss: {epoch_loss / (i + 1):.3e} - val Acc: {correct * 100. / epoch_all:.2f}%')\n",
    "        val_loss_list.append(epoch_loss)\n",
    "    return train_loss_list,val_loss_list\n"
   ]
  },
  {
   "cell_type": "code",
   "execution_count": 22,
   "id": "3ca8b442",
   "metadata": {},
   "outputs": [
    {
     "data": {
      "text/plain": [
       "tensor(0.)"
      ]
     },
     "execution_count": 22,
     "metadata": {},
     "output_type": "execute_result"
    }
   ],
   "source": [
    "metric2(torch.Tensor([0.7]).int(),torch.Tensor([1]).int())"
   ]
  }
 ],
 "metadata": {
  "kernelspec": {
   "display_name": "Python 3 (ipykernel)",
   "language": "python",
   "name": "python3"
  },
  "language_info": {
   "codemirror_mode": {
    "name": "ipython",
    "version": 3
   },
   "file_extension": ".py",
   "mimetype": "text/x-python",
   "name": "python",
   "nbconvert_exporter": "python",
   "pygments_lexer": "ipython3",
   "version": "3.9.7"
  }
 },
 "nbformat": 4,
 "nbformat_minor": 5
}
