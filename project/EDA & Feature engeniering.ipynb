{
 "cells": [
  {
   "cell_type": "code",
   "execution_count": null,
   "metadata": {
    "id": "Yvs-dJVXTjAA"
   },
   "outputs": [],
   "source": [
    "import numpy as np\n",
    "import pandas as pd\n",
    "import matplotlib.pyplot as plt\n",
    "import seaborn as sns\n",
    "import plotly.graph_objs as go\n",
    "import plotly.offline as py \n",
    "from plotly.subplots import make_subplots\n",
    "import plotly.express as px\n",
    "from sklearn.ensemble import AdaBoostClassifier\n",
    "from sklearn.ensemble import RandomForestClassifier\n",
    "from sklearn import tree\n",
    "from sklearn.tree import DecisionTreeClassifier\n",
    "from sklearn.linear_model import LogisticRegression\n",
    "import pandas as pd\n",
    "import numpy as np\n",
    "import seaborn as sns\n",
    "import matplotlib.pyplot as plt\n",
    "from sklearn.model_selection import train_test_split\n",
    "from sklearn import tree\n",
    "from sklearn.metrics import confusion_matrix\n",
    "import seaborn as sn\n",
    "from sklearn import tree \n",
    "import scipy.stats as stats\n",
    "from matplotlib.colors import ListedColormap\n",
    "import json"
   ]
  },
  {
   "cell_type": "code",
   "execution_count": null,
   "metadata": {
    "colab": {
     "base_uri": "https://localhost:8080/",
     "height": 357
    },
    "id": "8dRTFDwEUsZ6",
    "outputId": "f327e82d-4b45-468c-c3ff-32b1ba2c9edc"
   },
   "outputs": [],
   "source": [
    "#data = pd.read_csv('/content/ML_Project/datasets/train_dataset.csv')\n",
    "data = pd.read_csv('datasets/train_dataset.csv')\n",
    "data.head()"
   ]
  },
  {
   "cell_type": "code",
   "execution_count": null,
   "metadata": {
    "colab": {
     "base_uri": "https://localhost:8080/"
    },
    "id": "1cxEpuiDU3al",
    "outputId": "cdeea29a-cc73-4441-9407-d2594ca3c1da",
    "scrolled": true
   },
   "outputs": [],
   "source": [
    "df = data.replace([-1,'-1'],np.nan)\n",
    "df['click_timestamp'].replace(['0',0],np.nan,inplace=True)\n",
    "df['product_price'].replace(['0',0],np.nan,inplace=True)\n",
    "print(df.info())\n",
    "print(\"Number of Null rows : \")\n",
    "print(df.isnull().sum())\n",
    "print(\"Number of unique values : \")\n",
    "print(df.nunique())"
   ]
  },
  {
   "cell_type": "code",
   "execution_count": null,
   "metadata": {},
   "outputs": [],
   "source": [
    "df.head()"
   ]
  },
  {
   "cell_type": "code",
   "execution_count": null,
   "metadata": {},
   "outputs": [],
   "source": [
    "col = df[\"product_price\"]\n",
    "df[\"pc\"] = col\n",
    "nan = df.isna()\n",
    "nan = nan.drop(columns=['product_category(1)', 'product_category(2)',\n",
    "       'product_category(3)', 'product_category(4)', 'product_category(5)',\n",
    "       'product_category(6)', 'product_category(7)',\"product_price\",'click_timestamp','user_id','partner_id'])\n",
    "nan[\"Sale\"] = df[\"Sale\"].apply(lambda x : not x)\n",
    "fig = plt.figure(figsize=(20,10))\n",
    "sns.heatmap(nan.corr(),annot=True)"
   ]
  },
  {
   "cell_type": "code",
   "execution_count": null,
   "metadata": {
    "id": "Bp4vrnNUVpG-"
   },
   "outputs": [],
   "source": [
    "# plot pie charts \n",
    "def pie_plot(column,df):    \n",
    "    sale = df[df[\"Sale\"] == 1]\n",
    "    not_sale = df[df[\"Sale\"] == 0]\n",
    "    fig = make_subplots(1, 2, specs=[[{'type':'domain'}, {'type':'domain'}]],\n",
    "                      subplot_titles=['sale', 'not-sale'])\n",
    "\n",
    "    fig.add_trace(go.Pie(values  = sale[column].value_counts().values.tolist(),\n",
    "                  labels  = sale[column].value_counts().keys().tolist(),\n",
    "                  hoverinfo = \"label+percent+name\",\n",
    "                  domain = dict(x = [0,.48]),\n",
    "                  name = \"sale customers\",\n",
    "                  marker_colors = [ 'orange' , 'steelblue','forestgreen' ],\n",
    "                  hole = .5 ))\n",
    "\n",
    "    fig.add_trace(go.Pie(values  = not_sale[column].value_counts().values.tolist(),\n",
    "                  labels  = not_sale[column].value_counts().keys().tolist(),\n",
    "                  hoverinfo = \"label+percent+name\",\n",
    "                  domain  = dict(x = [.52,1]),                \n",
    "                  name    = \"not sale customers\",\n",
    "                  hole    = .5))\n",
    "\n",
    "    fig.update_layout(\n",
    "      plot_bgcolor  = \"rgb(243,243,243)\",\n",
    "      paper_bgcolor = \"rgb(243,243,243)\",\n",
    "      title_text=\"plot of sale and not-sale people by \"+column,\n",
    "      annotations=[dict(text='not-sale', x=0.75, y=0.5, font_size=20, showarrow=False),\n",
    "                  dict(text='sale', x=0.25, y=0.5, font_size=20, showarrow=False)])\n",
    "\n",
    "    py.iplot(fig)\n",
    "    fig = px.pie(df, values=df[column].value_counts().values.tolist(),names=df[column].value_counts().keys().tolist())\n",
    "    fig.show()\n",
    "def sale_relation(col,df):\n",
    "    sale = df[df[\"Sale\"] == 1][[col,\"Sale\"]].astype(int)\n",
    "    not_sale = df[df[\"Sale\"] == 0][[col,\"Sale\"]].astype(int)\n",
    "    not_sale[\"Sale\"] = not_sale[\"Sale\"].apply(lambda x : not x) \n",
    "    new_df = sale.groupby(col)[\"Sale\"].sum()\n",
    "    fig = plt.figure(figsize=(20,10))\n",
    "    y = new_df.to_numpy()\n",
    "    plt.plot(range(len(y)),y)\n",
    "    plt.title(f\"Sale - {col} relation\")\n",
    "    plt.show()\n",
    "    new_df = not_sale.groupby(col)[\"Sale\"].sum()\n",
    "    y = new_df.to_numpy()\n",
    "    fig = plt.figure(figsize=(20,10))\n",
    "    plt.plot(range(len(y)),y)\n",
    "    plt.title(f\"not Sale - {col} relation\")\n",
    "    plt.show()\n",
    "    \n",
    "    \n",
    "    "
   ]
  },
  {
   "cell_type": "code",
   "execution_count": null,
   "metadata": {},
   "outputs": [],
   "source": [
    "col = df[\"time_delay_for_conversion\"].notnull()\n",
    "df[\"time_delay\"] = col\n",
    "pie_plot('time_delay',df)"
   ]
  },
  {
   "cell_type": "code",
   "execution_count": null,
   "metadata": {},
   "outputs": [],
   "source": [
    "col = df[\"SalesAmountInEuro\"].notnull()\n",
    "df[\"SalesAmount\"] = col\n",
    "pie_plot('SalesAmount',df)"
   ]
  },
  {
   "cell_type": "code",
   "execution_count": null,
   "metadata": {},
   "outputs": [],
   "source": [
    "col = df[\"product_price\"].replace(0,np.nan).notnull()\n",
    "df[\"pc\"] = col\n",
    "pie_plot('pc',df)"
   ]
  },
  {
   "cell_type": "code",
   "execution_count": null,
   "metadata": {},
   "outputs": [],
   "source": [
    "# product age group \n",
    "col = df[\"product_age_group\"]\n",
    "product_age_group_list = col.unique()\n",
    "product_age_group_hash_table = dict()\n",
    "product_age_group_hash_table_reverse = dict()\n",
    "for i,group in enumerate(product_age_group_list):\n",
    "    product_age_group_hash_table[group] = i\n",
    "    product_age_group_hash_table_reverse[i] = group\n",
    "print(product_age_group_hash_table,product_age_group_hash_table_reverse)\n",
    "col = col.apply(lambda x :product_age_group_hash_table[x]).astype(\"category\");\n",
    "df[\"product_age_group\"] = col\n",
    "pie_plot('product_age_group',df)"
   ]
  },
  {
   "cell_type": "code",
   "execution_count": null,
   "metadata": {},
   "outputs": [],
   "source": [
    "sale_relation(\"product_age_group\",df)"
   ]
  },
  {
   "cell_type": "code",
   "execution_count": null,
   "metadata": {},
   "outputs": [],
   "source": [
    "# device_type\n",
    "col = df[\"device_type\"]\n",
    "device_type_list = col.unique()\n",
    "device_type_hash_table = dict()\n",
    "device_type_hash_table_reverse = dict()\n",
    "for i,group in enumerate(device_type_list):\n",
    "    device_type_hash_table[group] = i\n",
    "    device_type_hash_table_reverse[i] = group\n",
    "print(device_type_hash_table,device_type_hash_table_reverse)\n",
    "col = col.apply(lambda x :device_type_hash_table[x]).astype(\"category\");\n",
    "df[\"device_type\"] = col\n",
    "pie_plot('device_type',df)\n",
    "df[\"device_type\"].unique()"
   ]
  },
  {
   "cell_type": "code",
   "execution_count": null,
   "metadata": {},
   "outputs": [],
   "source": [
    "sale_relation(\"device_type\",df)"
   ]
  },
  {
   "cell_type": "code",
   "execution_count": null,
   "metadata": {},
   "outputs": [],
   "source": [
    "# product_country\n",
    "col = df[\"product_country\"]\n",
    "product_country_list = col.unique()\n",
    "product_country_hash_table = dict()\n",
    "product_country_hash_table_reverse = dict()\n",
    "for i,group in enumerate(product_country_list):\n",
    "    product_country_hash_table[group] = i\n",
    "    product_country_hash_table_reverse[i] = group\n",
    "print(product_country_hash_table,product_country_hash_table_reverse)\n",
    "col = col.apply(lambda x :product_country_hash_table[x]).astype(\"category\");\n",
    "df[\"product_country\"] = col\n",
    "pie_plot('product_country',df)"
   ]
  },
  {
   "cell_type": "code",
   "execution_count": null,
   "metadata": {},
   "outputs": [],
   "source": [
    "sale_relation(\"product_country\",df)"
   ]
  },
  {
   "cell_type": "code",
   "execution_count": null,
   "metadata": {},
   "outputs": [],
   "source": [
    "# product_gender\n",
    "col = df[\"product_gender\"]\n",
    "product_gender_list = col.unique()\n",
    "product_gender_hash_table = dict()\n",
    "product_gender_hash_table_reverse = dict()\n",
    "for i,group in enumerate(product_gender_list):\n",
    "    product_gender_hash_table[group] = i\n",
    "    product_gender_hash_table_reverse[i] = group\n",
    "print(product_gender_hash_table,product_gender_hash_table_reverse)\n",
    "col = col.apply(lambda x :product_gender_hash_table[x]).astype(\"category\");\n",
    "df[\"product_gender\"] = col\n",
    "pie_plot('product_gender',df)"
   ]
  },
  {
   "cell_type": "code",
   "execution_count": null,
   "metadata": {},
   "outputs": [],
   "source": [
    "sale_relation(\"product_gender\",df)"
   ]
  },
  {
   "cell_type": "code",
   "execution_count": null,
   "metadata": {},
   "outputs": [],
   "source": [
    "#click_timestamp\n",
    "col = df[\"click_timestamp\"]\n",
    "time = []\n",
    "day = []\n",
    "col.apply(lambda x : day.append(x.split(\" \")[0]))\n",
    "col.apply(lambda x : time.append(x.split(\" \")[1]))\n",
    "df[\"day\"] = pd.Series(day)\n",
    "df[\"day_time\"] = pd.Series(time)\n",
    "print(df[\"day\"].unique())\n",
    "print(len(df[\"day_time\"].unique()))\n",
    "pie_plot('day',df)\n",
    "df[\"day_time_category\"] = df[\"day_time\"].apply(lambda x : int(x.split(\":\")[0])).astype(\"category\")\n"
   ]
  },
  {
   "cell_type": "code",
   "execution_count": null,
   "metadata": {},
   "outputs": [],
   "source": [
    "pie_plot('day_time_category',df)"
   ]
  },
  {
   "cell_type": "code",
   "execution_count": null,
   "metadata": {},
   "outputs": [],
   "source": [
    "sale_relation('day_time_category',df)"
   ]
  },
  {
   "cell_type": "code",
   "execution_count": null,
   "metadata": {},
   "outputs": [],
   "source": [
    "df.head()"
   ]
  },
  {
   "cell_type": "code",
   "execution_count": null,
   "metadata": {},
   "outputs": [],
   "source": [
    "# product_brand\n",
    "col = df[\"product_brand\"]\n",
    "product_brand_list = col.unique()\n",
    "product_brand_hash_table = dict()\n",
    "product_brand_hash_table_reverse = dict()\n",
    "for i,group in enumerate(product_brand_list):\n",
    "    product_brand_hash_table[group] = i\n",
    "    product_brand_hash_table_reverse[i] = group\n",
    "col = col.apply(lambda x :product_brand_hash_table[x]).astype(\"category\");\n",
    "df[\"product_brand\"] = col\n",
    "# product_title\n",
    "col = df[\"product_title\"]\n",
    "product_title_list = col.unique()\n",
    "product_title_hash_table = dict()\n",
    "product_title_hash_table_reverse = dict()\n",
    "for i,group in enumerate(product_title_list):\n",
    "    product_title_hash_table[group] = i\n",
    "    product_title_hash_table_reverse[i] = group\n",
    "col = col.apply(lambda x :product_title_hash_table[x]).astype(\"category\");\n",
    "df[\"product_title\"] = col\n",
    "# audience_id\n",
    "col = df[\"audience_id\"]\n",
    "audience_id_list = col.unique()\n",
    "audience_id_hash_table = dict()\n",
    "audience_id_hash_table_reverse = dict()\n",
    "for i,group in enumerate(audience_id_list):\n",
    "    audience_id_hash_table[group] = i\n",
    "    audience_id_hash_table_reverse[i] = group\n",
    "col = col.apply(lambda x :audience_id_hash_table[x]).astype(\"category\");\n",
    "df[\"audience_id\"] = col\n",
    "# partner_id\n",
    "col = df[\"partner_id\"]\n",
    "partner_id_list = col.unique()\n",
    "partner_id_hash_table = dict()\n",
    "partner_id_hash_table_reverse = dict()\n",
    "for i,group in enumerate(partner_id_list):\n",
    "    partner_id_hash_table[group] = i\n",
    "    partner_id_hash_table_reverse[i] = group\n",
    "col = col.apply(lambda x :partner_id_hash_table[x]).astype(\"category\");\n",
    "df[\"partner_id\"] = col\n",
    "# user_id\n",
    "col = df[\"user_id\"]\n",
    "user_id_list = col.unique()\n",
    "user_id_hash_table = dict()\n",
    "user_id_hash_table_reverse = dict()\n",
    "for i,group in enumerate(user_id_list):\n",
    "    user_id_hash_table[group] = i\n",
    "    user_id_hash_table_reverse[i] = group\n",
    "col = col.apply(lambda x :user_id_hash_table[x]).astype(\"category\");\n",
    "df[\"user_id\"] = col\n",
    "# product_id\n",
    "col = df[\"product_id\"]\n",
    "product_id_list = col.unique()\n",
    "product_id_hash_table = dict()\n",
    "product_id_hash_table_reverse = dict()\n",
    "for i,group in enumerate(product_id_list):\n",
    "    product_id_hash_table[group] = i\n",
    "    product_id_hash_table_reverse[i] = group\n",
    "col = col.apply(lambda x :product_id_hash_table[x]).astype(\"category\");\n",
    "df[\"product_id\"] = col\n"
   ]
  },
  {
   "cell_type": "code",
   "execution_count": null,
   "metadata": {},
   "outputs": [],
   "source": [
    "df.head()"
   ]
  },
  {
   "cell_type": "code",
   "execution_count": null,
   "metadata": {},
   "outputs": [],
   "source": [
    "mapping_dict = dict()\n",
    "mapping_dict[\"product_age_group\"] = [product_age_group_hash_table,product_age_group_hash_table_reverse]\n",
    "mapping_dict[\"device_type\"] = [device_type_hash_table,device_type_hash_table_reverse]\n",
    "mapping_dict[\"product_gender\"] = [product_gender_hash_table,product_gender_hash_table_reverse]\n",
    "mapping_dict[\"product_brand\"] = [product_brand_hash_table,product_brand_hash_table_reverse]\n",
    "mapping_dict[\"product_country\"] = [product_country_hash_table,product_country_hash_table_reverse]\n",
    "mapping_dict[\"product_title\"] = [product_title_hash_table,product_title_hash_table_reverse]\n",
    "mapping_dict[\"audience_id\"] = [audience_id_hash_table,audience_id_hash_table_reverse]\n",
    "mapping_dict[\"partner_id\"] = [partner_id_hash_table,partner_id_hash_table_reverse]\n",
    "mapping_dict[\"user_id\"] = [user_id_hash_table,user_id_hash_table_reverse]\n",
    "mapping_dict[\"product_id\"] = [product_id_hash_table,product_id_hash_table_reverse]"
   ]
  },
  {
   "cell_type": "code",
   "execution_count": null,
   "metadata": {},
   "outputs": [],
   "source": [
    "df.head()"
   ]
  },
  {
   "cell_type": "code",
   "execution_count": null,
   "metadata": {
    "id": "Y105lEb0pBR5"
   },
   "outputs": [],
   "source": [
    "cat_columns = ['product_age_group', 'device_type', 'audience_id', 'product_gender', 'product_brand'\n",
    ", 'product_country', 'product_category(1)', 'product_category(2)', 'product_category(3)', 'product_category(4)', \n",
    " 'product_category(5)',  'product_category(6)']\n",
    "product_category_cols = [ 'product_category(1)', 'product_category(2)', 'product_category(3)', 'product_category(4)', \n",
    " 'product_category(5)',  'product_category(6)']"
   ]
  },
  {
   "cell_type": "code",
   "execution_count": null,
   "metadata": {},
   "outputs": [],
   "source": [
    "df[product_category_cols] = df[product_category_cols].fillna(0)"
   ]
  },
  {
   "cell_type": "code",
   "execution_count": null,
   "metadata": {},
   "outputs": [],
   "source": [
    "df[product_category_cols].head()"
   ]
  },
  {
   "cell_type": "code",
   "execution_count": null,
   "metadata": {},
   "outputs": [],
   "source": [
    "cat_dict = dict()\n",
    "for cat in product_category_cols:\n",
    "    col = df[cat]\n",
    "    llist = col.unique()\n",
    "    llist_hash_table = dict()\n",
    "    llist_hash_table_reverse = dict()\n",
    "    for i,group in enumerate(llist):\n",
    "        llist_hash_table[group] = i\n",
    "        llist_hash_table_reverse[i] = group\n",
    "    col = col.apply(lambda x :llist_hash_table[x]).astype(\"category\");\n",
    "    df[cat] = col\n",
    "    cat_dict[cat] = [llist_hash_table,llist_hash_table_reverse]\n",
    "mapping_dict[\"category_dicts\"] = cat_dict"
   ]
  },
  {
   "cell_type": "code",
   "execution_count": null,
   "metadata": {},
   "outputs": [],
   "source": [
    "id_type = 0\n",
    "class category_tree:\n",
    "    def __init__(self,num):\n",
    "        global id_type\n",
    "        self.type = num\n",
    "        self.id = id_type\n",
    "        id_type = id_type+1\n",
    "        self.child = dict()\n",
    "    def add_child(self,childrens : list,index):\n",
    "        if len(childrens) <= index:\n",
    "            return \n",
    "        temp = self.child.get(childrens[index],None)\n",
    "        if temp == None:\n",
    "            temp = self.child[childrens[index]] = category_tree(self.type+1)\n",
    "        temp.add_child(childrens,index+1)\n",
    "    def get_id(self,childrens : list,index,max_depth = 7,depth_iter = 0):\n",
    "        if len(childrens) <= index or depth_iter+1 > max_depth :\n",
    "            return self.id\n",
    "        else:\n",
    "            return self.child.get(childrens[index]).get_id(childrens,index+1,max_depth,depth_iter+1)\n",
    "    \"\"\"\n",
    "    def __dict__(self):\n",
    "        temp = \"\"\n",
    "        for key,val in self.child.items():\n",
    "            temp += f'{key} : {val.__dict__}'\n",
    "            print(temp)\n",
    "        return f'\\{\\\"type\\\": {self.type}, \\\"id\\\": {self.id}, \\\"child\\\": \\{{temp}\\}\\}'\n",
    "    \"\"\"\n",
    "cols = df[product_category_cols].to_numpy()\n",
    "node = category_tree(0)\n",
    "for row in cols:\n",
    "    node.add_child(row,0)\n",
    "        \n",
    "            \n",
    "            \n",
    "        "
   ]
  },
  {
   "cell_type": "code",
   "execution_count": null,
   "metadata": {},
   "outputs": [],
   "source": [
    "for depth in range(7):\n",
    "    a = []\n",
    "    for row in cols:\n",
    "        a.append(node.get_id(row,0,depth))\n",
    "    a = pd.Series(a)\n",
    "    print(f'max_depth {depth} : path {len(a.unique())}')"
   ]
  },
  {
   "cell_type": "code",
   "execution_count": null,
   "metadata": {},
   "outputs": [],
   "source": [
    "a = []\n",
    "for row in cols:\n",
    "    a.append(node.get_id(row,0))\n",
    "a = pd.Series(a)\n",
    "df[\"tree_encode\"] = a"
   ]
  },
  {
   "cell_type": "code",
   "execution_count": null,
   "metadata": {},
   "outputs": [],
   "source": [
    "df[\"tree_encode\"].value_counts()"
   ]
  },
  {
   "cell_type": "code",
   "execution_count": null,
   "metadata": {},
   "outputs": [],
   "source": [
    "df[product_category_cols].to_csv(\"utils/category_tree.csv\")"
   ]
  },
  {
   "cell_type": "code",
   "execution_count": null,
   "metadata": {},
   "outputs": [],
   "source": [
    "df[product_category_cols].head()"
   ]
  },
  {
   "cell_type": "code",
   "execution_count": null,
   "metadata": {},
   "outputs": [],
   "source": [
    "new_col = df[product_category_cols].astype(bool)\n",
    "new_col = new_col.astype(int)"
   ]
  },
  {
   "cell_type": "code",
   "execution_count": null,
   "metadata": {},
   "outputs": [],
   "source": [
    "col = new_col[\"product_category(1)\"]\n",
    "for i in range(2,7):\n",
    "    col = col+(2**(i-1))* new_col[f\"product_category({i})\"]"
   ]
  },
  {
   "cell_type": "code",
   "execution_count": null,
   "metadata": {},
   "outputs": [],
   "source": [
    "df[\"category_encode\"] = col.astype(\"category\")\n",
    "df"
   ]
  },
  {
   "cell_type": "code",
   "execution_count": null,
   "metadata": {
    "colab": {
     "base_uri": "https://localhost:8080/",
     "height": 297
    },
    "id": "yLvcvUxBj6rN",
    "outputId": "872d4e96-c725-422a-aa11-a57e6e416a96"
   },
   "outputs": [],
   "source": [
    "number_of_sale =  np.count_nonzero(df.Sale.values)\n",
    "number_of_not_sale = np.size(df['Sale'])-number_of_sale\n",
    "sizes = (number_of_sale, number_of_not_sale)\n",
    "explode = (0, 0.1)\n",
    "colors =['#c2c2f0','#ffb3e6', '#c2c2f0','#ffb3e6', '#c2c2f0','#ffb3e6', '#c2c2f0','#ffb3e6']\n",
    "fig1, ax1 = plt.subplots()\n",
    "status = 'Sale = 1', 'Sale = 0'\n",
    "ax1.pie(sizes, labels=status, autopct='%1.1f%%', colors=colors, frame=True , startangle=90, pctdistance=0.85)\n",
    "centre_circle = plt.Circle((0,0),0.70,fc='white')\n",
    "fig = plt.gcf()\n",
    "fig.gca().add_artist(centre_circle)\n",
    "ax1.axis('equal')  \n",
    "plt.tight_layout()\n",
    "plt.show()"
   ]
  },
  {
   "cell_type": "code",
   "execution_count": null,
   "metadata": {
    "id": "KZDPgXmYr5l9"
   },
   "outputs": [],
   "source": [
    "def hist_plot(column):\n",
    "  fig, ax = plt.subplots(figsize=(15,8))\n",
    "  sns.distplot(ax = ax,a = sale[column],hist=True, kde=True, rug=False , label = 'sale')\n",
    "  sns.distplot(ax = ax ,a = not_sale[column],hist=True, kde=True, rug=False,label = 'not_sale')\n",
    "  plt.legend()\n",
    "  plt.show()"
   ]
  },
  {
   "cell_type": "code",
   "execution_count": null,
   "metadata": {
    "colab": {
     "base_uri": "https://localhost:8080/",
     "height": 542
    },
    "id": "p5dPcodhXxhQ",
    "outputId": "45176c73-b38b-4d7d-910c-b90df0a2fabc"
   },
   "outputs": [],
   "source": [
    "numerical_columns = ['SalesAmountInEuro', 'time_delay_for_conversion',\n",
    "       'nb_clicks_1week', 'product_price']\n",
    "numeric_data_mapping = dict() # [upper bound , lowe bound , upper fill , lower fill , null fill]\n",
    "df.head()"
   ]
  },
  {
   "cell_type": "code",
   "execution_count": null,
   "metadata": {},
   "outputs": [],
   "source": [
    "def histogramX(col):\n",
    "    fig = plt.figure(figsize=(20,10))\n",
    "    sns.boxplot(data=pd.DataFrame(data = {\"col\":col}),x = \"col\")\n",
    "    plt.show()\n",
    "    fig = plt.figure(figsize=(20,10))\n",
    "    sns.distplot(col, hist=True, kde=True, \n",
    "             bins=int(20), color = 'darkblue', \n",
    "             hist_kws={'edgecolor':'black'},\n",
    "             kde_kws={'linewidth': 4})\n",
    "    plt.show()"
   ]
  },
  {
   "cell_type": "code",
   "execution_count": null,
   "metadata": {
    "colab": {
     "base_uri": "https://localhost:8080/",
     "height": 542
    },
    "id": "PZ0euVV4qj-z",
    "outputId": "058274f2-c6e4-484d-dd94-436daf329653",
    "scrolled": true
   },
   "outputs": [],
   "source": [
    "col = df[\"SalesAmountInEuro\"]\n",
    "histogramX(col)"
   ]
  },
  {
   "cell_type": "code",
   "execution_count": null,
   "metadata": {},
   "outputs": [],
   "source": [
    "mean = col.mean()\n",
    "col = col.fillna(mean)\n",
    "upper = col.quantile(0.95)\n",
    "lower = col.quantile(0.05)\n",
    "col = col.apply(lambda x : mean if (x >upper) else lower if (x < lower) else x )\n",
    "print(col.describe()) # [upper bound , lowe bound , upper fill , lower fill , null fill]\n",
    "numeric_data_mapping[\"SalesAmountInEuro\"] = [upper,lower,mean,lower,mean]\n",
    "df[\"SalesAmountInEuro\"] = col"
   ]
  },
  {
   "cell_type": "code",
   "execution_count": null,
   "metadata": {},
   "outputs": [],
   "source": [
    "histogramX(col)"
   ]
  },
  {
   "cell_type": "code",
   "execution_count": null,
   "metadata": {},
   "outputs": [],
   "source": [
    "col = df[\"time_delay_for_conversion\"]\n",
    "histogramX(col)"
   ]
  },
  {
   "cell_type": "code",
   "execution_count": null,
   "metadata": {},
   "outputs": [],
   "source": [
    "mean = col.mean()\n",
    "col = col.fillna(mean)\n",
    "upper = col.quantile(0.95)\n",
    "lower = col.quantile(0.05)\n",
    "col = col.apply(lambda x : mean if (x >upper) else lower if (x < lower) else x )\n",
    "print(col.describe()) # [upper bound , lowe bound , upper fill , lower fill , null fill]\n",
    "numeric_data_mapping[\"time_delay_for_conversion\"] = [upper,lower,mean,lower,mean]\n",
    "df[\"time_delay_for_conversion\"] = col"
   ]
  },
  {
   "cell_type": "code",
   "execution_count": null,
   "metadata": {},
   "outputs": [],
   "source": [
    "histogramX(col)"
   ]
  },
  {
   "cell_type": "code",
   "execution_count": null,
   "metadata": {},
   "outputs": [],
   "source": [
    "col = df[\"nb_clicks_1week\"]\n",
    "histogramX(col)"
   ]
  },
  {
   "cell_type": "code",
   "execution_count": null,
   "metadata": {},
   "outputs": [],
   "source": [
    "mean = col.mean()\n",
    "col = col.fillna(mean)\n",
    "upper = col.quantile(0.95)\n",
    "lower = col.quantile(0.05)\n",
    "col = col.apply(lambda x : mean if (x >upper) else lower if (x < lower) else x )\n",
    "print(col.describe()) # [upper bound , lowe bound , upper fill , lower fill , null fill]\n",
    "numeric_data_mapping[\"nb_clicks_1week\"] = [upper,lower,mean,lower,mean]\n",
    "df[\"nb_clicks_1week\"] = col"
   ]
  },
  {
   "cell_type": "code",
   "execution_count": null,
   "metadata": {},
   "outputs": [],
   "source": [
    "histogramX(col)"
   ]
  },
  {
   "cell_type": "code",
   "execution_count": null,
   "metadata": {},
   "outputs": [],
   "source": [
    "col = df[\"product_price\"]\n",
    "histogramX(col)"
   ]
  },
  {
   "cell_type": "code",
   "execution_count": null,
   "metadata": {},
   "outputs": [],
   "source": [
    "pro"
   ]
  },
  {
   "cell_type": "code",
   "execution_count": null,
   "metadata": {},
   "outputs": [],
   "source": [
    "mean = col.mean()\n",
    "col = col.fillna(mean)\n",
    "upper = col.quantile(0.95)\n",
    "lower = col.quantile(0.05)\n",
    "col = col.apply(lambda x : mean if (x >upper) else lower if (x < lower) else x )\n",
    "print(col.describe()) # [upper bound , lowe bound , upper fill , lower fill , null fill]\n",
    "numeric_data_mapping[\"product_price\"] = [upper,lower,mean,lower,mean]\n",
    "df[\"product_price\"] = col"
   ]
  },
  {
   "cell_type": "code",
   "execution_count": null,
   "metadata": {},
   "outputs": [],
   "source": [
    "histogramX(col)"
   ]
  },
  {
   "cell_type": "code",
   "execution_count": null,
   "metadata": {},
   "outputs": [],
   "source": [
    "df = df.drop(columns = [\"pc\",\"product_category(7)\",\"SalesAmount\",\"time_delay\"])\n",
    "df.head()"
   ]
  },
  {
   "cell_type": "code",
   "execution_count": null,
   "metadata": {},
   "outputs": [],
   "source": [
    "df.to_csv('datasets/EDA.csv')\n",
    "json.dump( mapping_dict, open( \"utils/mapping.json\", 'w' ) )\n",
    "json.dump( mapping_dict, open( \"utils/numeric_data_mapping.json\", 'w' ) )"
   ]
  }
 ],
 "metadata": {
  "colab": {
   "collapsed_sections": [],
   "name": "ML_Project.ipynb",
   "provenance": []
  },
  "kernelspec": {
   "display_name": "Python 3 (ipykernel)",
   "language": "python",
   "name": "python3"
  },
  "language_info": {
   "codemirror_mode": {
    "name": "ipython",
    "version": 3
   },
   "file_extension": ".py",
   "mimetype": "text/x-python",
   "name": "python",
   "nbconvert_exporter": "python",
   "pygments_lexer": "ipython3",
   "version": "3.9.7"
  }
 },
 "nbformat": 4,
 "nbformat_minor": 4
}
