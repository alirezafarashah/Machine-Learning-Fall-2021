{
  "nbformat": 4,
  "nbformat_minor": 0,
  "metadata": {
    "colab": {
      "name": "ML_HW4.ipynb",
      "provenance": [],
      "collapsed_sections": []
    },
    "kernelspec": {
      "name": "python3",
      "display_name": "Python 3"
    },
    "language_info": {
      "name": "python"
    }
  },
  "cells": [
    {
      "cell_type": "markdown",
      "metadata": {
        "id": "nnOkA6B3FpHg"
      },
      "source": [
        "Alireza Dehghanpour\n",
        "\n",
        "student number : 98101555"
      ]
    },
    {
      "cell_type": "code",
      "metadata": {
        "id": "2WFehEGlFkQD"
      },
      "source": [
        "import pandas as pd\n",
        "import numpy as np\n",
        "import matplotlib.pyplot as plt"
      ],
      "execution_count": 156,
      "outputs": []
    },
    {
      "cell_type": "markdown",
      "metadata": {
        "id": "3llojapT-0XW"
      },
      "source": [
        "loading dataset and splitting"
      ]
    },
    {
      "cell_type": "code",
      "metadata": {
        "colab": {
          "base_uri": "https://localhost:8080/",
          "height": 423
        },
        "id": "enHGIbR_pVK3",
        "outputId": "cb4cb082-94aa-4d9b-db7d-d9d9b210d2c0"
      },
      "source": [
        "from sklearn.model_selection import train_test_split\n",
        "\n",
        "dataset = pd.read_csv(\"data.csv\", index_col=0)\n",
        "training_data, testing_data = train_test_split(dataset, test_size=0.5, random_state = 0)\n",
        "dataset"
      ],
      "execution_count": 157,
      "outputs": [
        {
          "output_type": "execute_result",
          "data": {
            "text/html": [
              "<div>\n",
              "<style scoped>\n",
              "    .dataframe tbody tr th:only-of-type {\n",
              "        vertical-align: middle;\n",
              "    }\n",
              "\n",
              "    .dataframe tbody tr th {\n",
              "        vertical-align: top;\n",
              "    }\n",
              "\n",
              "    .dataframe thead th {\n",
              "        text-align: right;\n",
              "    }\n",
              "</style>\n",
              "<table border=\"1\" class=\"dataframe\">\n",
              "  <thead>\n",
              "    <tr style=\"text-align: right;\">\n",
              "      <th></th>\n",
              "      <th>X1</th>\n",
              "      <th>X2</th>\n",
              "      <th>Y</th>\n",
              "    </tr>\n",
              "  </thead>\n",
              "  <tbody>\n",
              "    <tr>\n",
              "      <th>0</th>\n",
              "      <td>0.004291</td>\n",
              "      <td>-0.174600</td>\n",
              "      <td>-1</td>\n",
              "    </tr>\n",
              "    <tr>\n",
              "      <th>1</th>\n",
              "      <td>2.225050</td>\n",
              "      <td>0.117181</td>\n",
              "      <td>1</td>\n",
              "    </tr>\n",
              "    <tr>\n",
              "      <th>2</th>\n",
              "      <td>0.274173</td>\n",
              "      <td>-0.514910</td>\n",
              "      <td>-1</td>\n",
              "    </tr>\n",
              "    <tr>\n",
              "      <th>3</th>\n",
              "      <td>-1.045133</td>\n",
              "      <td>-0.798009</td>\n",
              "      <td>1</td>\n",
              "    </tr>\n",
              "    <tr>\n",
              "      <th>4</th>\n",
              "      <td>1.611457</td>\n",
              "      <td>0.239339</td>\n",
              "      <td>1</td>\n",
              "    </tr>\n",
              "    <tr>\n",
              "      <th>...</th>\n",
              "      <td>...</td>\n",
              "      <td>...</td>\n",
              "      <td>...</td>\n",
              "    </tr>\n",
              "    <tr>\n",
              "      <th>195</th>\n",
              "      <td>-0.405730</td>\n",
              "      <td>0.781775</td>\n",
              "      <td>-1</td>\n",
              "    </tr>\n",
              "    <tr>\n",
              "      <th>196</th>\n",
              "      <td>0.319356</td>\n",
              "      <td>0.460903</td>\n",
              "      <td>-1</td>\n",
              "    </tr>\n",
              "    <tr>\n",
              "      <th>197</th>\n",
              "      <td>0.228630</td>\n",
              "      <td>0.445138</td>\n",
              "      <td>-1</td>\n",
              "    </tr>\n",
              "    <tr>\n",
              "      <th>198</th>\n",
              "      <td>1.484537</td>\n",
              "      <td>-1.079805</td>\n",
              "      <td>1</td>\n",
              "    </tr>\n",
              "    <tr>\n",
              "      <th>199</th>\n",
              "      <td>-0.707071</td>\n",
              "      <td>0.546665</td>\n",
              "      <td>-1</td>\n",
              "    </tr>\n",
              "  </tbody>\n",
              "</table>\n",
              "<p>200 rows × 3 columns</p>\n",
              "</div>"
            ],
            "text/plain": [
              "           X1        X2  Y\n",
              "0    0.004291 -0.174600 -1\n",
              "1    2.225050  0.117181  1\n",
              "2    0.274173 -0.514910 -1\n",
              "3   -1.045133 -0.798009  1\n",
              "4    1.611457  0.239339  1\n",
              "..        ...       ... ..\n",
              "195 -0.405730  0.781775 -1\n",
              "196  0.319356  0.460903 -1\n",
              "197  0.228630  0.445138 -1\n",
              "198  1.484537 -1.079805  1\n",
              "199 -0.707071  0.546665 -1\n",
              "\n",
              "[200 rows x 3 columns]"
            ]
          },
          "metadata": {},
          "execution_count": 157
        }
      ]
    },
    {
      "cell_type": "markdown",
      "metadata": {
        "id": "nkp6SxaT_Dcx"
      },
      "source": [
        "plot data"
      ]
    },
    {
      "cell_type": "code",
      "metadata": {
        "colab": {
          "base_uri": "https://localhost:8080/",
          "height": 282
        },
        "id": "PAJIIUvCpxCP",
        "outputId": "df8ba040-8f4b-4466-930f-182997a4816a"
      },
      "source": [
        "plt.scatter(x=dataset['X1'], y=dataset['X2'], c=dataset['Y'], edgecolor='none',\n",
        "            alpha=1, cmap=plt.cm.get_cmap('Spectral', 10))"
      ],
      "execution_count": 158,
      "outputs": [
        {
          "output_type": "execute_result",
          "data": {
            "text/plain": [
              "<matplotlib.collections.PathCollection at 0x7f24ca9f7910>"
            ]
          },
          "metadata": {},
          "execution_count": 158
        },
        {
          "output_type": "display_data",
          "data": {
            "image/png": "[encoded data removed]",
            "text/plain": [
              "<Figure size 432x288 with 1 Axes>"
            ]
          },
          "metadata": {
            "needs_background": "light"
          }
        }
      ]
    },
    {
      "cell_type": "markdown",
      "metadata": {
        "id": "EWkZZ1lT_JWg"
      },
      "source": [
        "give weight 1/m to each data"
      ]
    },
    {
      "cell_type": "code",
      "metadata": {
        "colab": {
          "base_uri": "https://localhost:8080/",
          "height": 423
        },
        "id": "rh_C0llGtlJF",
        "outputId": "a19db647-236f-4530-ebd5-c94d48fbc566"
      },
      "source": [
        "training_data['weight'] = 1/len(training_data)\n",
        "training_data"
      ],
      "execution_count": 159,
      "outputs": [
        {
          "output_type": "execute_result",
          "data": {
            "text/html": [
              "<div>\n",
              "<style scoped>\n",
              "    .dataframe tbody tr th:only-of-type {\n",
              "        vertical-align: middle;\n",
              "    }\n",
              "\n",
              "    .dataframe tbody tr th {\n",
              "        vertical-align: top;\n",
              "    }\n",
              "\n",
              "    .dataframe thead th {\n",
              "        text-align: right;\n",
              "    }\n",
              "</style>\n",
              "<table border=\"1\" class=\"dataframe\">\n",
              "  <thead>\n",
              "    <tr style=\"text-align: right;\">\n",
              "      <th></th>\n",
              "      <th>X1</th>\n",
              "      <th>X2</th>\n",
              "      <th>Y</th>\n",
              "      <th>weight</th>\n",
              "    </tr>\n",
              "  </thead>\n",
              "  <tbody>\n",
              "    <tr>\n",
              "      <th>158</th>\n",
              "      <td>-0.965066</td>\n",
              "      <td>1.028274</td>\n",
              "      <td>1</td>\n",
              "      <td>0.01</td>\n",
              "    </tr>\n",
              "    <tr>\n",
              "      <th>191</th>\n",
              "      <td>-0.339140</td>\n",
              "      <td>0.312170</td>\n",
              "      <td>-1</td>\n",
              "      <td>0.01</td>\n",
              "    </tr>\n",
              "    <tr>\n",
              "      <th>50</th>\n",
              "      <td>-0.922909</td>\n",
              "      <td>0.469751</td>\n",
              "      <td>-1</td>\n",
              "      <td>0.01</td>\n",
              "    </tr>\n",
              "    <tr>\n",
              "      <th>0</th>\n",
              "      <td>0.004291</td>\n",
              "      <td>-0.174600</td>\n",
              "      <td>-1</td>\n",
              "      <td>0.01</td>\n",
              "    </tr>\n",
              "    <tr>\n",
              "      <th>94</th>\n",
              "      <td>-1.225836</td>\n",
              "      <td>-0.221793</td>\n",
              "      <td>1</td>\n",
              "      <td>0.01</td>\n",
              "    </tr>\n",
              "    <tr>\n",
              "      <th>...</th>\n",
              "      <td>...</td>\n",
              "      <td>...</td>\n",
              "      <td>...</td>\n",
              "      <td>...</td>\n",
              "    </tr>\n",
              "    <tr>\n",
              "      <th>67</th>\n",
              "      <td>0.842225</td>\n",
              "      <td>0.203581</td>\n",
              "      <td>-1</td>\n",
              "      <td>0.01</td>\n",
              "    </tr>\n",
              "    <tr>\n",
              "      <th>192</th>\n",
              "      <td>0.653662</td>\n",
              "      <td>-2.176609</td>\n",
              "      <td>1</td>\n",
              "      <td>0.01</td>\n",
              "    </tr>\n",
              "    <tr>\n",
              "      <th>117</th>\n",
              "      <td>1.674076</td>\n",
              "      <td>1.163724</td>\n",
              "      <td>1</td>\n",
              "      <td>0.01</td>\n",
              "    </tr>\n",
              "    <tr>\n",
              "      <th>47</th>\n",
              "      <td>1.308473</td>\n",
              "      <td>0.195013</td>\n",
              "      <td>1</td>\n",
              "      <td>0.01</td>\n",
              "    </tr>\n",
              "    <tr>\n",
              "      <th>172</th>\n",
              "      <td>0.794685</td>\n",
              "      <td>-0.493141</td>\n",
              "      <td>-1</td>\n",
              "      <td>0.01</td>\n",
              "    </tr>\n",
              "  </tbody>\n",
              "</table>\n",
              "<p>100 rows × 4 columns</p>\n",
              "</div>"
            ],
            "text/plain": [
              "           X1        X2  Y  weight\n",
              "158 -0.965066  1.028274  1    0.01\n",
              "191 -0.339140  0.312170 -1    0.01\n",
              "50  -0.922909  0.469751 -1    0.01\n",
              "0    0.004291 -0.174600 -1    0.01\n",
              "94  -1.225836 -0.221793  1    0.01\n",
              "..        ...       ... ..     ...\n",
              "67   0.842225  0.203581 -1    0.01\n",
              "192  0.653662 -2.176609  1    0.01\n",
              "117  1.674076  1.163724  1    0.01\n",
              "47   1.308473  0.195013  1    0.01\n",
              "172  0.794685 -0.493141 -1    0.01\n",
              "\n",
              "[100 rows x 4 columns]"
            ]
          },
          "metadata": {},
          "execution_count": 159
        }
      ]
    },
    {
      "cell_type": "markdown",
      "metadata": {
        "id": "KpNTknX8_huy"
      },
      "source": [
        "calculate error for each sample"
      ]
    },
    {
      "cell_type": "code",
      "metadata": {
        "id": "xbQfMGji6t1R"
      },
      "source": [
        "def cal_error(row):\n",
        "  err = 0\n",
        "  if row['pred'] != row['Y']:\n",
        "    err = row['weight']\n",
        "  return err\n"
      ],
      "execution_count": 160,
      "outputs": []
    },
    {
      "cell_type": "markdown",
      "metadata": {
        "id": "E38u7wg2_uVM"
      },
      "source": [
        "implementing AdaBoost algorithm"
      ]
    },
    {
      "cell_type": "code",
      "metadata": {
        "id": "VSod30zMyFmp"
      },
      "source": [
        "# we give weight to decision tree as sample_weight parameter\n",
        "\n",
        "from sklearn.tree import DecisionTreeClassifier\n",
        "\n",
        "T = 20\n",
        "classifiers = []\n",
        "for i in range(T):\n",
        "  dt = DecisionTreeClassifier(criterion = \"gini\",max_depth=1)\n",
        "  dt.fit(training_data.drop(['Y','weight'],axis=1).values,training_data['Y'].values, sample_weight = training_data['weight'])\n",
        "  y_pred = dt.predict(training_data.drop(['Y','weight'],axis=1).values)\n",
        "  training_data['pred'] = y_pred\n",
        "  err = sum(training_data.apply(cal_error, axis=1))\n",
        "  alpha = 0.5*np.log((1-err)/err)\n",
        "  Zt = 2.0 * np.sqrt(err*(1-err))\n",
        "  training_data['weight'] = np.true_divide(training_data['weight']*np.exp(-1*alpha*training_data['Y']*training_data['pred']),Zt)\n",
        "  classifiers.append((alpha,dt))\n",
        "  training_data.drop(['pred'],axis=1,inplace=True)"
      ],
      "execution_count": 161,
      "outputs": []
    },
    {
      "cell_type": "markdown",
      "metadata": {
        "id": "2ifJjrKm__rC"
      },
      "source": [
        "predict target for test dataset"
      ]
    },
    {
      "cell_type": "code",
      "metadata": {
        "id": "4HFoxYz_-8mB"
      },
      "source": [
        "def predict(row):\n",
        "  t = 0\n",
        "  for alpha, h in classifiers:\n",
        "    t+= alpha*h.predict(row.to_numpy().reshape(1,-1))[0]\n",
        "  return np.sign(t)\n",
        "test_pred = testing_data.drop(['Y'],axis=1).apply(predict,axis=1)"
      ],
      "execution_count": 162,
      "outputs": []
    },
    {
      "cell_type": "markdown",
      "metadata": {
        "id": "xS2dSwUBAFyd"
      },
      "source": [
        "calculate accuracy"
      ]
    },
    {
      "cell_type": "code",
      "metadata": {
        "colab": {
          "base_uri": "https://localhost:8080/"
        },
        "id": "U1-pAoAkEHMi",
        "outputId": "7e5105d2-1715-40c1-e49c-b8a5d168f79b"
      },
      "source": [
        "from sklearn.metrics import accuracy_score\n",
        "print(\"accuracy on test dataset : \",accuracy_score(test_pred,testing_data['Y']))"
      ],
      "execution_count": 163,
      "outputs": [
        {
          "output_type": "stream",
          "name": "stdout",
          "text": [
            "accuracy on test dataset :  0.94\n"
          ]
        }
      ]
    }
  ]
}